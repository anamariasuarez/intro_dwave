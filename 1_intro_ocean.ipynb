{
  "cells": [
    {
      "cell_type": "markdown",
      "metadata": {
        "id": "NU5zChFhduPF"
      },
      "source": [
        "**INTRODUCCION A LA PROGRAMACION CUANTICA**\n",
        "-------------------------------------------------------\n",
        "Prof: Carmen Pellicer Lostao</br>\n",
        "[Linkedin](https://www.linkedin.com/in/cpellicerlostao/)</br>\n",
        "[email](cpellicerlostao@gmail.com)"
      ]
    },
    {
      "cell_type": "markdown",
      "metadata": {
        "id": "e7XfoKUelvsk"
      },
      "source": [
        "# D-WAVE OCEAN"
      ]
    },
    {
      "cell_type": "markdown",
      "metadata": {
        "id": "uGH4o3b0duPS"
      },
      "source": [
        "## Intro"
      ]
    },
    {
      "cell_type": "markdown",
      "metadata": {
        "id": "vHcWX7wzduPT"
      },
      "source": [
        "Lea los documentos para obtener más información: https://docs.ocean.dwavesys.com/en/stable/getting_started.html\n",
        "\n",
        "**¿Nuevo en Jupyter Notebooks?** Los JN se dividen en celdas de texto o código. Al presionar el botón **Ejecutar** en la barra de menú se pasa a la siguiente celda. Las celdas de código están marcadas con \"En: \\[\\]\" a la izquierda; cuando se ejecuta, se muestra un asterisco hasta que se completa el código: \"En: \\[\\*\\]\"."
      ]
    },
    {
      "cell_type": "markdown",
      "metadata": {
        "id": "oyGe__uKl0LB"
      },
      "source": [
        "## Instalación del SDK de Ocean\n",
        "\n",
        "D-Wave Ocean SDK (Ocean) es una colección de software que utiliza máquinas D-Wave. Es fácil utilizar varias funciones de Python.\n",
        "\n",
        "Github: https://github.com/dwavesystems/dwave-ocean-sdk\n",
        "\n",
        "Documento: https://docs.ocean.dwavesys.com/en/latest/\n",
        "\n",
        "Guía: https://docs.ocean.dwavesys.com/en/stable/overview/install.html\n",
        "\n",
        "Para instalar Ocean, use pip como se describe en el enlace anterior o clone el repositorio de github."
      ]
    },
    {
      "cell_type": "code",
      "execution_count": null,
      "metadata": {
        "id": "NImJ4NVpltwr"
      },
      "outputs": [],
      "source": [
        "%pip install dwave-ocean-sdk"
      ]
    },
    {
      "cell_type": "code",
      "execution_count": null,
      "metadata": {
        "id": "fcFla8bxy5--"
      },
      "outputs": [],
      "source": [
        "#Advanced users might directly install the latest (development) SDK from the D-Wave GitHub repository using a command such as,\n",
        "#%pip install git+https://github.com/dwavesystems/dwave-ocean-sdk"
      ]
    },
    {
      "cell_type": "code",
      "execution_count": null,
      "metadata": {
        "id": "J0NOfDmnAICj"
      },
      "outputs": [],
      "source": [
        "#Alternatively, you can clone the dwave-ocean-sdk repo and install the SDK to your virtual environment; for example:\n",
        "#%git clone https://github.com/dwavesystems/dwave-ocean-sdk.git\n",
        "#%cd dwave-ocean-sdk\n",
        "#%python setup.py install"
      ]
    },
    {
      "cell_type": "markdown",
      "metadata": {
        "id": "1Xj--YfoduPY"
      },
      "source": [
        "## Configuración del acceso a los solucionadores de Leap"
      ]
    },
    {
      "cell_type": "markdown",
      "metadata": {
        "id": "ecnHfYZgduPZ"
      },
      "source": [
        "La **Solver API (SAPI)** de D-Wave proporciona acceso a los solucionadores (recursos informáticos para resolver problemas, como computadoras cuánticas D-Wave y solucionadores híbridos cuánticos clásicos) alojados en la nube cuántica de Leap.\n",
        "\n",
        "Necesita credenciales SAPI para acceder a estos recursos. Estas credenciales son **un token** que identifica su cuenta en Dwave."
      ]
    },
    {
      "cell_type": "markdown",
      "metadata": {
        "id": "3fjCDk0p0E0d"
      },
      "source": [
        "### Configuración del entorno de herramientas oceánicas"
      ]
    },
    {
      "cell_type": "markdown",
      "metadata": {
        "id": "j6BiRxr1zN41"
      },
      "source": [
        "El dwave-ocean-sdk incluye un **programa CLI** interactivo que lo guía a través de la configuración de un entorno virtual con todas las herramientas necesarias e interesantes para trabajar con los sistemas Dwave. (CLI significa interfaz de línea de comando)\n",
        "\n",
        "Para una experiencia de desarrollo completa y sencilla, se recomienda que antes de comenzar a escribir código, se complete la configuración de su entorno.\n",
        "\n",
        "También es recomendable que se incluya los dos últimos pasos:\n",
        "\n",
        "Instale Contributor Ocean Tools, agrega **herramientas que no son de código abierto** como el **Problem Inspector**."
      ]
    },
    {
      "cell_type": "code",
      "execution_count": 2,
      "metadata": {
        "colab": {
          "base_uri": "https://localhost:8080/"
        },
        "id": "c2-iby3ylvAq",
        "outputId": "ec02dcf1-012a-4e41-c0e7-a326c2e6efdd"
      },
      "outputs": [
        {
          "name": "stdout",
          "output_type": "stream",
          "text": [
            "Usage: dwave install [OPTIONS] [PACKAGES]...\n",
            "\n",
            "  Install optional non-open-source Ocean packages.\n",
            "\n",
            "Options:\n",
            "  -l, --list                   List available contrib (non-OSS) packages\n",
            "  -a, --all                    Install all contrib (non-OSS) packages\n",
            "  -u, --update                 Reinstall all installed contrib packages\n",
            "  -y, --accept-license, --yes  Accept license(s) without prompting\n",
            "  -v, --verbose                Increase output verbosity (additive, up to 4\n",
            "                               times)  [default: 0]\n",
            "  --help                       Show this message and exit.\n"
          ]
        }
      ],
      "source": [
        "#Install optional non-open-source Ocean packages\n",
        "#see help for available commands and then run the install\n",
        "%dwave install --help"
      ]
    },
    {
      "cell_type": "code",
      "execution_count": 4,
      "metadata": {
        "colab": {
          "base_uri": "https://localhost:8080/"
        },
        "id": "rP-0NIV-0bA1",
        "outputId": "75618ddc-43c6-4de3-a458-758df53c52f3"
      },
      "outputs": [
        {
          "name": "stdout",
          "output_type": "stream",
          "text": [
            "Nothing to do. Try \"dwave install --help\".\n"
          ]
        }
      ],
      "source": [
        "!dwave install"
      ]
    },
    {
      "cell_type": "markdown",
      "metadata": {
        "id": "2A4U9pdL03KU"
      },
      "source": [
        "En el entorno virtual que creó como parte de la instalación de Ocean Tools, ejecute el comando **dwave setup**. Una vez que el entorno esté configurado en la instalación, no necesitará incluir el token u otros parámetros de la cuenta en el código.\n",
        "\n",
        "La configuración crea un **archivo de configuración** que las primitivas de Ocean usarán automáticamente para incluir estos parámetros cuando use SAPI.\n",
        "\n",
        "Los nuevos usuarios pueden aceptar los valores predeterminados del comando de configuración de dwave (presione Enter) para todas las solicitudes excepto el token de autenticación, que se muestra en el panel de Leap de su cuenta. La sección Configuración del acceso a los solucionadores de Leap explica cómo puede actualizar la configuración de su entorno de trabajo en cualquier momento."
      ]
    },
    {
      "cell_type": "code",
      "execution_count": null,
      "metadata": {
        "id": "CeCr1G7Y04X9"
      },
      "outputs": [],
      "source": [
        "#run in terminal\n",
        "!dwave setup"
      ]
    },
    {
      "cell_type": "markdown",
      "metadata": {
        "id": "cgWYowoJduPg"
      },
      "source": [
        "#### Working with the config file\n",
        "\n",
        "To manage or change the environment configuration file at any time we use the `dwave config command` also available in the DWave CLI program"
      ]
    },
    {
      "cell_type": "code",
      "execution_count": 5,
      "metadata": {
        "id": "_lSSV0HXduPh"
      },
      "outputs": [
        {
          "name": "stdout",
          "output_type": "stream",
          "text": [
            "Usage: dwave config [OPTIONS] COMMAND [ARGS]...\n",
            "\n",
            "  Create, update or inspect cloud client configuration file(s).\n",
            "\n",
            "Options:\n",
            "  --help  Show this message and exit.\n",
            "\n",
            "Commands:\n",
            "  create   Create or update cloud client configuration file.\n",
            "  inspect  Inspect existing configuration/profile.\n",
            "  ls       List configuration files detected (and/or examined paths).\n"
          ]
        }
      ],
      "source": [
        "#see all command available\n",
        "!dwave config --help"
      ]
    },
    {
      "cell_type": "code",
      "execution_count": null,
      "metadata": {
        "id": "kH7y41QtduPh"
      },
      "outputs": [],
      "source": [
        "#inspect the config file\n",
        "!dwave config inspect"
      ]
    },
    {
      "cell_type": "markdown",
      "metadata": {
        "id": "_Z9sQ3fC30NN"
      },
      "source": [
        "Example: using dwave CLI to see the available solvers, their parameters, and properties."
      ]
    },
    {
      "cell_type": "code",
      "execution_count": 9,
      "metadata": {
        "id": "R5sWZPsc1qkw"
      },
      "outputs": [
        {
          "name": "stdout",
          "output_type": "stream",
          "text": [
            "hybrid_binary_quadratic_model_version2\n",
            "hybrid_discrete_quadratic_model_version1\n",
            "hybrid_constrained_quadratic_model_version1\n",
            "Advantage_system6.4\n",
            "Advantage2_prototype2.3\n",
            "Advantage_system4.1\n"
          ]
        }
      ],
      "source": [
        "#na-west-1 eu-central-1\n",
        "!dwave solvers  --list --all --region na-west-1"
      ]
    },
    {
      "cell_type": "markdown",
      "metadata": {
        "id": "ABVbaK4cduPl"
      },
      "source": [
        "#### Verify configuration of the virtual environment"
      ]
    },
    {
      "cell_type": "markdown",
      "metadata": {
        "id": "47dzuJEe8X6t"
      },
      "source": [
        "To Verify your configuration in the virtual environment, you can test that your solver access is configured correctly with the interactive CLI.\n",
        "\n",
        "In your virtual environment, run the dwave ping command"
      ]
    },
    {
      "cell_type": "code",
      "execution_count": null,
      "metadata": {
        "id": "TO3RF_jw8CSw"
      },
      "outputs": [],
      "source": [
        "!dwave ping --client qpu"
      ]
    },
    {
      "cell_type": "markdown",
      "metadata": {
        "id": "vsCT1MVw8vbN"
      },
      "source": [
        "or run a random toy problem to see if everything works"
      ]
    },
    {
      "cell_type": "code",
      "execution_count": null,
      "metadata": {
        "id": "kHRYk-na8cVE"
      },
      "outputs": [],
      "source": [
        "!dwave sample --random-problem"
      ]
    }
  ],
  "metadata": {
    "colab": {
      "provenance": []
    },
    "kernelspec": {
      "display_name": "Python 3 (ipykernel)",
      "language": "python",
      "name": "python3"
    },
    "language_info": {
      "codemirror_mode": {
        "name": "ipython",
        "version": 3
      },
      "file_extension": ".py",
      "mimetype": "text/x-python",
      "name": "python",
      "nbconvert_exporter": "python",
      "pygments_lexer": "ipython3",
      "version": "3.10.13"
    }
  },
  "nbformat": 4,
  "nbformat_minor": 0
}
